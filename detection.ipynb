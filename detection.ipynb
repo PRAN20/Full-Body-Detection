{
  "nbformat": 4,
  "nbformat_minor": 0,
  "metadata": {
    "colab": {
      "name": "detection.ipynb",
      "provenance": [],
      "authorship_tag": "ABX9TyPFch/kcxw+jtZBPVjOkgI4",
      "include_colab_link": true
    },
    "kernelspec": {
      "name": "python3",
      "display_name": "Python 3"
    },
    "language_info": {
      "name": "python"
    }
  },
  "cells": [
    {
      "cell_type": "markdown",
      "metadata": {
        "id": "view-in-github",
        "colab_type": "text"
      },
      "source": [
        "<a href=\"https://colab.research.google.com/github/PRAN20/Full-Body-Detection/blob/main/detection.ipynb\" target=\"_parent\"><img src=\"https://colab.research.google.com/assets/colab-badge.svg\" alt=\"Open In Colab\"/></a>"
      ]
    },
    {
      "cell_type": "markdown",
      "source": [
        "# **Importing Header Files**"
      ],
      "metadata": {
        "id": "eZCjYUbDJ2hu"
      }
    },
    {
      "cell_type": "code",
      "source": [
        "!pip install mediapipe --quiet\n",
        "!pip install jovian --quiet"
      ],
      "metadata": {
        "colab": {
          "base_uri": "https://localhost:8080/"
        },
        "id": "KHMC8eY9Jrt2",
        "outputId": "367cbc74-f657-452a-b9c9-7e72241a64f1"
      },
      "execution_count": 2,
      "outputs": [
        {
          "output_type": "stream",
          "name": "stdout",
          "text": [
            "\u001b[K     |████████████████████████████████| 32.7 MB 1.2 MB/s \n",
            "\u001b[K     |████████████████████████████████| 68 kB 3.7 MB/s \n",
            "\u001b[?25h  Building wheel for uuid (setup.py) ... \u001b[?25l\u001b[?25hdone\n"
          ]
        }
      ]
    },
    {
      "cell_type": "code",
      "execution_count": 3,
      "metadata": {
        "id": "GDeDisM3HiEi"
      },
      "outputs": [],
      "source": [
        "import cv2                  \n",
        "import mediapipe as mp    \n",
        "import jovian               \n",
        "import time                 \n",
        "import plotly.express as px \n",
        "import matplotlib.pyplot as plt"
      ]
    },
    {
      "cell_type": "markdown",
      "source": [
        "# **Importing DataBase**"
      ],
      "metadata": {
        "id": "QLzrHSviJ7t6"
      }
    },
    {
      "cell_type": "code",
      "source": [
        "from google.colab import drive\n",
        "drive.mount('/content/drive')"
      ],
      "metadata": {
        "colab": {
          "base_uri": "https://localhost:8080/"
        },
        "id": "z6iF0zXmKCHm",
        "outputId": "f0c672a7-fd77-418e-845b-a80bd925189b"
      },
      "execution_count": 4,
      "outputs": [
        {
          "output_type": "stream",
          "name": "stdout",
          "text": [
            "Mounted at /content/drive\n"
          ]
        }
      ]
    },
    {
      "cell_type": "code",
      "source": [
        "!unzip \"check.zip\" -d \"DataSet\""
      ],
      "metadata": {
        "colab": {
          "base_uri": "https://localhost:8080/"
        },
        "id": "RVqycUamLVRj",
        "outputId": "aac1d680-8620-4bfe-fd95-98317bca9033"
      },
      "execution_count": 7,
      "outputs": [
        {
          "output_type": "stream",
          "name": "stdout",
          "text": [
            "Archive:  check.zip\n",
            "   creating: DataSet/check/\n",
            "   creating: DataSet/check/1/\n",
            "  inflating: DataSet/check/1/depositphotos_62045373-stock-photo-full-body-woman-showing-thumbs.jpg  \n",
            "   creating: DataSet/check/4/\n",
            "  inflating: DataSet/check/4/MG_7574-1.jpg  \n",
            "   creating: DataSet/check/3/\n",
            "  inflating: DataSet/check/3/images3.jpg  \n",
            "   creating: DataSet/check/2/\n",
            "  inflating: DataSet/check/2/full-body-photo-of-young-latino-man.jpg  \n"
          ]
        }
      ]
    },
    {
      "cell_type": "code",
      "source": [
        "path = \"/content/DataSet/check\""
      ],
      "metadata": {
        "id": "WTU4F6HVMEir"
      },
      "execution_count": 8,
      "outputs": []
    },
    {
      "cell_type": "code",
      "source": [
        "cd"
      ],
      "metadata": {
        "colab": {
          "base_uri": "https://localhost:8080/"
        },
        "id": "45KOiQASMJZ1",
        "outputId": "8a6387cd-b1bf-463f-f95d-b9bc3f7d9d2c"
      },
      "execution_count": 9,
      "outputs": [
        {
          "output_type": "stream",
          "name": "stdout",
          "text": [
            "/root\n"
          ]
        }
      ]
    },
    {
      "cell_type": "code",
      "source": [
        "import os"
      ],
      "metadata": {
        "id": "l8LxEdzNMxUS"
      },
      "execution_count": 11,
      "outputs": []
    },
    {
      "cell_type": "code",
      "source": [
        "mp_drawing = mp.solutions.drawing_utils\n",
        "mp_holistic = mp.solutions.holistic"
      ],
      "metadata": {
        "id": "a2v33NRvOnn7"
      },
      "execution_count": 19,
      "outputs": []
    },
    {
      "cell_type": "code",
      "source": [
        "cd /content/Output"
      ],
      "metadata": {
        "colab": {
          "base_uri": "https://localhost:8080/"
        },
        "id": "sD_Tps_IUmPP",
        "outputId": "a5bf4ffa-336b-4bb2-8e83-5715eea38570"
      },
      "execution_count": 48,
      "outputs": [
        {
          "output_type": "stream",
          "name": "stdout",
          "text": [
            "/content/Output\n"
          ]
        }
      ]
    },
    {
      "cell_type": "code",
      "source": [
        "#i = 0\n",
        "#l = 0\n",
        "for files in os.listdir(path):\n",
        "  #i = i + 1\n",
        "  #print(i)\n",
        "  for images in os.listdir(path + \"/\" + files):\n",
        "    #print(images)\n",
        "    image= cv2.imread(path + \"/\" + files +\"/\"+images,1)\n",
        "    #l = l + 1\n",
        "    #print(l)\n",
        "    image = cv2.flip(image,1)\n",
        "\n",
        "    with mp_holistic.Holistic(min_detection_confidence = 0.5, min_tracking_confidence = 0.5) as holistic:\n",
        "      results = holistic.process(image)\n",
        "\n",
        "    image = cv2.cvtColor(image, cv2.COLOR_RGB2BGR)\n",
        "\n",
        "    if(results.face_landmarks and results.pose_landmarks):\n",
        "      os.mkdir(files)\n",
        "      cv2.imwrite(\"/content/Output/\" + files + \"/\" + images + \".png\", image)\n",
        "      #print(i)"
      ],
      "metadata": {
        "id": "rAhjAiYwMKvX"
      },
      "execution_count": 49,
      "outputs": []
    }
  ]
}